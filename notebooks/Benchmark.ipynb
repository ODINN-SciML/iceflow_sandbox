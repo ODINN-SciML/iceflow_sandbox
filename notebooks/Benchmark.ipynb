{
 "cells": [
  {
   "cell_type": "markdown",
   "id": "895091e0",
   "metadata": {},
   "source": [
    "### This notebook aims to show what the benchmark.jl and benchmark_glaciers.jl scripts do "
   ]
  },
  {
   "cell_type": "code",
   "execution_count": 1,
   "id": "7ebe942b",
   "metadata": {
    "scrolled": true
   },
   "outputs": [
    {
     "name": "stderr",
     "output_type": "stream",
     "text": [
      "2023-05-12 11:18:15: oggm.cfg: Reading default parameters from the OGGM `params.cfg` configuration file.\n",
      "2023-05-12 11:18:15: oggm.cfg: Multiprocessing switched OFF according to the parameter file.\n",
      "2023-05-12 11:18:15: oggm.cfg: Multiprocessing: using all available processors (N=16)\n",
      "2023-05-12 11:18:15: oggm.cfg: PARAMS['hydro_month_nh'] changed from `10` to `1`.\n",
      "2023-05-12 11:18:15: oggm.cfg: PARAMS['continue_on_error'] changed from `False` to `True`.\n",
      "2023-05-12 11:18:15: oggm.cfg: PARAMS['store_fl_diagnostics'] changed from `False` to `True`.\n",
      "2023-05-12 11:18:15: oggm.cfg: Multiprocessing switched ON after user settings.\n",
      "2023-05-12 11:18:35: oggm.cfg: Reading default parameters from the OGGM `params.cfg` configuration file.\n",
      "2023-05-12 11:18:35: oggm.cfg: Multiprocessing switched OFF according to the parameter file.\n",
      "2023-05-12 11:18:35: oggm.cfg: Multiprocessing: using all available processors (N=16)\n",
      "2023-05-12 11:18:35: oggm.cfg: PARAMS['hydro_month_nh'] changed from `10` to `1`.\n",
      "2023-05-12 11:18:35: oggm.cfg: PARAMS['continue_on_error'] changed from `False` to `True`.\n",
      "2023-05-12 11:18:35: oggm.cfg: PARAMS['store_fl_diagnostics'] changed from `False` to `True`.\n",
      "2023-05-12 11:18:35: oggm.cfg: Multiprocessing switched ON after user settings.\n",
      "2023-05-12 11:18:35: oggm.cfg: Reading default parameters from the OGGM `params.cfg` configuration file.\n",
      "2023-05-12 11:18:35: oggm.cfg: Multiprocessing switched OFF according to the parameter file.\n",
      "2023-05-12 11:18:35: oggm.cfg: Multiprocessing: using all available processors (N=16)\n",
      "2023-05-12 11:18:35: oggm.cfg: PARAMS['hydro_month_nh'] changed from `10` to `1`.\n",
      "2023-05-12 11:18:35: oggm.cfg: PARAMS['continue_on_error'] changed from `False` to `True`.\n",
      "2023-05-12 11:18:35: oggm.cfg: PARAMS['store_fl_diagnostics'] changed from `False` to `True`.\n",
      "2023-05-12 11:18:35: oggm.cfg: Multiprocessing switched ON after user settings.\n"
     ]
    }
   ],
   "source": [
    "#Useful packages\n",
    "include(\"oggm_access.jl\")\n",
    "include(\"1D_SIA.jl\")\n",
    "include(\"1D_SIA_raw.jl\")\n",
    "using NCDatasets\n",
    "using BenchmarkTools\n",
    "using Distributed"
   ]
  },
  {
   "cell_type": "markdown",
   "id": "375aaf61",
   "metadata": {},
   "source": [
    "### Benchmarking different solvers"
   ]
  },
  {
   "cell_type": "code",
   "execution_count": 2,
   "id": "ae73b858",
   "metadata": {},
   "outputs": [],
   "source": [
    "#Here definition of the function for the pmap\n",
    "\n",
    "@everywhere begin\n",
    "using DifferentialEquations\n",
    "\n",
    "using JLD2\n",
    "using Random\n",
    "using SugarBLAS\n",
    "using Statistics: median\n",
    "# using AbbreviatedStackTraces\n",
    "using Logging: global_logger\n",
    "using Revise, BenchmarkTools\n",
    "using LinearAlgebra\n",
    "using TerminalLoggers: TerminalLogger\n",
    "using DataFrames\n",
    "global_logger(TerminalLogger())\n",
    "\n",
    "function benchmark_setting(setting)\n",
    "\n",
    "    ude_benchmark = Dict(\"ude_settings\"=>[], \"time_stats\"=>[])\n",
    "\n",
    "    UDE_settings = Dict(\"reltol\"=>reltol,\"solver\"=>[])\n",
    "    UDE_settings[\"solver\"] = setting\n",
    "\n",
    "    println(\"Benchmarking UDE settings: \", UDE_settings)\n",
    "    push!(ude_benchmark[\"ude_settings\"], UDE_settings)\n",
    "\n",
    "    try\n",
    "        t_stats = @timed glacier_evolution(gdir=gdir, \n",
    "        dx=dx_o, # grid resolution in m\n",
    "        nx=length(bed_o),  # grid size\n",
    "        width=widths_o,  # glacier width in m \n",
    "        glen_a= 2.4e-24,  # ice stiffness 2.4e-24\n",
    "        n_years=15.0,  # simulation time in years\n",
    "        solver = setting,\n",
    "        reltol=UDE_settings[\"reltol\"],\n",
    "        bed_hs=bed_o,\n",
    "        surface_ini=surface_o)\n",
    "\n",
    "        # Save stats for each solver\n",
    "\n",
    "        push!(ude_benchmark[\"time_stats\"], t_stats)\n",
    "\n",
    "  \n",
    "    catch error\n",
    "        println(\"ERROR: \", error)\n",
    "        @warn \"Solver not working. Skipping...\"\n",
    "    end\n",
    "\n",
    "    GC.gc()\n",
    "    return ude_benchmark\n",
    "end\n",
    "\n",
    "\n",
    "end #everywhere "
   ]
  },
  {
   "cell_type": "code",
   "execution_count": 3,
   "id": "83e18744",
   "metadata": {},
   "outputs": [
    {
     "name": "stderr",
     "output_type": "stream",
     "text": [
      "2023-05-12 11:19:16: oggm.workflow: Execute entity tasks [GlacierDirectory] on 1 glaciers\n",
      "2023-05-12 11:19:17: oggm.cfg: PARAMS['evolution_model'] changed from `SemiImplicit` to `FluxBased`.\n"
     ]
    },
    {
     "name": "stdout",
     "output_type": "stream",
     "text": [
      "Benchmarking UDE settings: Dict{String, Any}(\"reltol\" => 1.0e-6, \"solver\" => Euler())\n",
      "Benchmarking UDE settings: Dict{String, Any}(\"reltol\" => 1.0e-6, \"solver\" => BS3(stage_limiter! = trivial_limiter!, step_limiter! = trivial_limiter!, thread = static(false)))\n",
      "Benchmarking UDE settings: Dict{String, Any}(\"reltol\" => 1.0e-6, \"solver\" => OwrenZen3(stage_limiter! = trivial_limiter!, step_limiter! = trivial_limiter!, thread = static(false)))\n",
      "Benchmarking UDE settings: Dict{String, Any}(\"reltol\" => 1.0e-6, \"solver\" => Ralston(stage_limiter! = trivial_limiter!, step_limiter! = trivial_limiter!, thread = static(false)))\n",
      "Benchmarking UDE settings: Dict{String, Any}(\"reltol\" => 1.0e-6, \"solver\" => RDPK3Sp35(stage_limiter! = trivial_limiter!, step_limiter! = trivial_limiter!, thread = static(false)))\n",
      "Benchmarking UDE settings: Dict{String, Any}(\"reltol\" => 1.0e-6, \"solver\" => CKLLSRK54_3C(stage_limiter! = trivial_limiter!, step_limiter! = trivial_limiter!, thread = static(false)))\n"
     ]
    }
   ],
   "source": [
    "### Main ###\n",
    "\n",
    "\n",
    "#Choose one glacier\n",
    "rgi_ids=[\"RGI60-11.01450\"]\n",
    "gdirs=init_gdirs(rgi_ids)\n",
    "gdir=gdirs[1]\n",
    "\n",
    "\n",
    "#Getting all needed parameters \n",
    "PARAMS[\"evolution_model\"] = \"FluxBased\"\n",
    "tasks.init_present_time_glacier(gdir)\n",
    "\n",
    "fls=gdir.read_pickle(\"model_flowlines\")\n",
    "bed_o = fls[end].bed_h\n",
    "surface_o = fls[end].surface_h\n",
    "widths_o = fls[end].widths_m\n",
    "dx_o = fls[end].dx_meter\n",
    "\n",
    "diag = gdir.get_diagnostics()\n",
    "glen_a_o = diag[\"inversion_glen_a\"]\n",
    "\n",
    "\n",
    "#Solvers\n",
    "reltol = 1e-6\n",
    "\n",
    "ude_solvers = [Euler(),BS3(),OwrenZen3(), Ralston(), RDPK3Sp35(), CKLLSRK54_3C()]\n",
    "    \n",
    "#Tried following solvers but glacier exceeds boundaries : \n",
    "#VCABM(), Vern6(), AN5(),AB3(), KenCarp3(autodiff=false),TRBDF2(autodiff=false),ROCK4(),QNDF(autodiff=false), Tsit5(),Rodas4P()\n",
    "#ImplicitEuler, ImplicitMidpoint,RK4, DP5\n",
    "\n",
    "#Vern8,9 , Feagin10,MSRK5, KuttaPRK2p5,SSPRK22, TanYam7 instables\n",
    "\n",
    "ude_benchmarks=zeros(length(ude_solvers))\n",
    "\n",
    "# Benchmark every solver in parallel\n",
    "ude_benchmarks = pmap(ude_solver -> benchmark_setting(ude_solver), ude_solvers) \n",
    "                \n",
    "save_object(\"data/benchmark.jld2\",ude_benchmarks)\n"
   ]
  },
  {
   "cell_type": "code",
   "execution_count": 5,
   "id": "97fa0d64",
   "metadata": {},
   "outputs": [
    {
     "name": "stderr",
     "output_type": "stream",
     "text": [
      "\u001b[33m\u001b[1m┌ \u001b[22m\u001b[39m\u001b[33m\u001b[1mWarning: \u001b[22m\u001b[39mtype Main.#get_mb2#15{PyObject} does not exist in workspace;\n",
      "\u001b[33m\u001b[1m│ \u001b[22m\u001b[39mreconstructing\n",
      "\u001b[33m\u001b[1m└ \u001b[22m\u001b[39m\u001b[90m@ JLD2 /home/gimenelu/.julia/packages/JLD2/ryhNR/src/data/reconstructing_datatypes.jl:495\u001b[39m\n",
      "\u001b[33m\u001b[1m┌ \u001b[22m\u001b[39m\u001b[33m\u001b[1mWarning: \u001b[22m\u001b[39mtype\n",
      "\u001b[33m\u001b[1m│ \u001b[22m\u001b[39mMain.#iceflow!#16{JLD2.ReconstructedTypes.var\"##Main.#get_mb2#15{PyObject}#477\",Vector{Float64},Vector{Float64},Vector{Float64},Vector{Float64}}\n",
      "\u001b[33m\u001b[1m│ \u001b[22m\u001b[39mdoes not exist in workspace; reconstructing\n",
      "\u001b[33m\u001b[1m└ \u001b[22m\u001b[39m\u001b[90m@ JLD2 /home/gimenelu/.julia/packages/JLD2/ryhNR/src/data/reconstructing_datatypes.jl:495\u001b[39m\n"
     ]
    },
    {
     "name": "stdout",
     "output_type": "stream",
     "text": [
      "\u001b[1m Row \u001b[0m│\u001b[1m id    \u001b[0m\u001b[1m name                              \u001b[0m\u001b[1m reltol  \u001b[0m\u001b[1m t        \u001b[0m\u001b[1m bytes     \u001b[0m\u001b[1m\u001b[0m ⋯\n",
      "\u001b[1m     \u001b[0m│\u001b[90m Int64 \u001b[0m\u001b[90m Ordinary…                         \u001b[0m\u001b[90m Float64 \u001b[0m\u001b[90m Float64  \u001b[0m\u001b[90m Int64     \u001b[0m\u001b[90m\u001b[0m ⋯\n",
      "─────┼──────────────────────────────────────────────────────────────────────────\n",
      "   1 │     1  Euler()                             1.0e-6  0.767518  143225190  ⋯\n",
      "   2 │     2  BS3(stage_limiter! = trivial_lim…   1.0e-6  0.30291    25126765\n",
      "   3 │     3  OwrenZen3(stage_limiter! = trivi…   1.0e-6  0.283958   24232000\n",
      "   4 │     4  Ralston(stage_limiter! = trivial…   1.0e-6  0.288019   24875632\n",
      "   5 │     5  RDPK3Sp35(stage_limiter! = trivi…   1.0e-6  0.411093   37914296  ⋯\n",
      "   6 │     6  CKLLSRK54_3C(stage_limiter! = tr…   1.0e-6  0.229528   18852064\n",
      "\u001b[36m                                                                1 column omitted\u001b[0m"
     ]
    }
   ],
   "source": [
    "### A look at the results ###\n",
    "ude = load(\"data/benchmark.jld2\")\n",
    "\n",
    "n=length(ude_solvers)\n",
    "stats = DataFrame(:id => 1:n, :name => ude_solvers, \n",
    "                  :reltol => ones(n)*reltol,\n",
    "                  :t => [ude[\"single_stored_object\"][i][\"time_stats\"][1].time for i =1:n],\n",
    "                  :bytes => [ude[\"single_stored_object\"][i][\"time_stats\"][1].bytes for i =1:n],\n",
    "                  :gctime => [ude[\"single_stored_object\"][i][\"time_stats\"][1].gctime for i =1:n])\n",
    "\n",
    "show(stats,summary=false)"
   ]
  },
  {
   "cell_type": "markdown",
   "id": "34d9f70e",
   "metadata": {},
   "source": [
    "### Benchmarking different glaciers"
   ]
  },
  {
   "cell_type": "code",
   "execution_count": 13,
   "id": "97455bad",
   "metadata": {},
   "outputs": [
    {
     "data": {
      "text/plain": [
       "benchmark_setting_gla (generic function with 1 method)"
      ]
     },
     "execution_count": 13,
     "metadata": {},
     "output_type": "execute_result"
    }
   ],
   "source": [
    "#Definition of the function to pass in pmap\n",
    "function benchmark_setting_gla(rgi)\n",
    "    rgi_id = [rgi]\n",
    "    gdirs=init_gdirs(rgi_id)\n",
    "    gdir=gdirs[1]\n",
    "    gla_name=gdir.name\n",
    "    gla_nb = findall(x->x==rgi,rgi_ids)[1]\n",
    "\n",
    "    #Getting the flowlines \n",
    "    tasks.init_present_time_glacier(gdir)\n",
    "\n",
    "    fls=gdir.read_pickle(\"model_flowlines\")\n",
    "    bed_o = fls[end].bed_h\n",
    "    surface_o = fls[end].surface_h\n",
    "    widths_o = fls[end].widths_m\n",
    "    dx_o = fls[end].dx_meter\n",
    "\n",
    "    diag = gdir.get_diagnostics()\n",
    "    glen_a_o = diag[\"inversion_glen_a\"]\n",
    "\n",
    "\n",
    "\n",
    "    ude_benchmark = Dict(\"glacier_id\"=>[], \"time_stats\"=>[],\"time_stats_oggm\"=>[])\n",
    "\n",
    "    println(\"Benchmarking glacier settings: \", rgi)\n",
    "    push!(ude_benchmark[\"glacier_id\"], rgi)\n",
    "\n",
    "    try\n",
    "        t_stats = @timed glacier_evolution(gdir=gdir, \n",
    "        dx=dx_o, # grid resolution in m\n",
    "        nx=length(bed_o),  # grid size\n",
    "        width=widths_o,  # glacier width  in years\n",
    "        glen_a= glen_a_o,\n",
    "        n_years=15.0,\n",
    "        solver = Ralston(),\n",
    "        reltol=1e-6,\n",
    "        bed_hs=bed_o,\n",
    "        surface_ini=surface_o)\n",
    "\n",
    "        push!(ude_benchmark[\"time_stats\"], t_stats)\n",
    "\n",
    "        t_stats_o =@timed workflow.execute_entity_task(tasks.run_from_climate_data, gdir,\n",
    "                                climate_filename=\"climate_historical\",\n",
    "                                ys=2004, ye=2019,store_fl_diagnostics=true)\n",
    "            \n",
    "        push!(ude_benchmark[\"time_stats_oggm\"], t_stats_o)\n",
    "        \n",
    "\n",
    "\n",
    "    catch error\n",
    "        println(\"ERROR: \", error)\n",
    "        @warn \"Solver not working. Skipping...\"\n",
    "    end\n",
    "\n",
    "    #=\n",
    "    iceflow_sol = glacier_evolution(gdir=gdir, dx=dx_o, nx=length(bed_o), width=widths_o,glen_a= 2.4e-24,n_years=15.0,solver = Ralston(),\n",
    "    reltol=1e-6,bed_hs=bed_o,surface_ini=surface_o)\n",
    "\n",
    "    plot(bed_o, c=\"brown\",label=\"bed\",title=\"$gla_name\",ylabel=\"Elevation (m.a.s.l.)\")\n",
    "    plot!(iceflow_sol[end] .+ bed_o, c=\"blue\",label=\"surface solver\")\n",
    "    plot!(surface_o,color=\"green\",label=\"surface initiale\")\n",
    "\n",
    "    f = gdir.get_filepath(\"fl_diagnostics\")\n",
    "    ds = NCDataset(f)\n",
    "    fl_id=0\n",
    "    ds2=ds.group[\"fl_$fl_id\"]\n",
    "    plot!(ds2[\"bed_h\"][:,end]+ds2[\"thickness_m\"][:,end],linestyle=:dash,color=\"black\",label=\"surface oggm\")\n",
    "\n",
    "    savefig(\"myplot_$gla_nb.png\")   \n",
    "    =#\n",
    "    \n",
    "    \n",
    "    GC.gc()\n",
    "    return ude_benchmark\n",
    "end\n",
    "\n"
   ]
  },
  {
   "cell_type": "code",
   "execution_count": 14,
   "id": "3dd9c5b8",
   "metadata": {
    "scrolled": true
   },
   "outputs": [
    {
     "name": "stdout",
     "output_type": "stream",
     "text": [
      "Benchmarking glacier settings: RGI60-11.03638\n"
     ]
    },
    {
     "name": "stderr",
     "output_type": "stream",
     "text": [
      "2023-05-12 11:30:38: oggm.workflow: Execute entity tasks [GlacierDirectory] on 1 glaciers\n",
      "2023-05-12 11:30:39: oggm.workflow: Execute entity tasks [run_from_climate_data] on 1 glaciers\n"
     ]
    },
    {
     "name": "stdout",
     "output_type": "stream",
     "text": [
      "Benchmarking glacier settings: RGI60-11.03671\n"
     ]
    },
    {
     "name": "stderr",
     "output_type": "stream",
     "text": [
      "2023-05-12 11:30:40: oggm.workflow: Execute entity tasks [GlacierDirectory] on 1 glaciers\n",
      "2023-05-12 11:30:40: oggm.workflow: Execute entity tasks [run_from_climate_data] on 1 glaciers\n"
     ]
    },
    {
     "name": "stdout",
     "output_type": "stream",
     "text": [
      "Benchmarking glacier settings: RGI60-11.03643\n"
     ]
    },
    {
     "name": "stderr",
     "output_type": "stream",
     "text": [
      "2023-05-12 11:30:41: oggm.workflow: Execute entity tasks [GlacierDirectory] on 1 glaciers\n",
      "2023-05-12 11:30:42: oggm.workflow: Execute entity tasks [run_from_climate_data] on 1 glaciers\n"
     ]
    },
    {
     "name": "stdout",
     "output_type": "stream",
     "text": [
      "Benchmarking glacier settings: RGI60-11.03674\n"
     ]
    },
    {
     "name": "stderr",
     "output_type": "stream",
     "text": [
      "2023-05-12 11:30:42: oggm.workflow: Execute entity tasks [GlacierDirectory] on 1 glaciers\n",
      "2023-05-12 11:30:43: oggm.workflow: Execute entity tasks [run_from_climate_data] on 1 glaciers\n"
     ]
    },
    {
     "name": "stdout",
     "output_type": "stream",
     "text": [
      "Benchmarking glacier settings: RGI60-11.03756\n"
     ]
    },
    {
     "name": "stderr",
     "output_type": "stream",
     "text": [
      "2023-05-12 11:30:43: oggm.workflow: Execute entity tasks [GlacierDirectory] on 1 glaciers\n",
      "2023-05-12 11:30:44: oggm.workflow: Execute entity tasks [run_from_climate_data] on 1 glaciers\n"
     ]
    },
    {
     "name": "stdout",
     "output_type": "stream",
     "text": [
      "Benchmarking glacier settings: RGI60-16.00543\n"
     ]
    },
    {
     "name": "stderr",
     "output_type": "stream",
     "text": [
      "2023-05-12 11:30:44: oggm.workflow: Execute entity tasks [GlacierDirectory] on 1 glaciers\n",
      "2023-05-12 11:30:45: oggm.workflow: Execute entity tasks [run_from_climate_data] on 1 glaciers\n"
     ]
    },
    {
     "name": "stdout",
     "output_type": "stream",
     "text": [
      "Benchmarking glacier settings: RGI60-16.01339\n"
     ]
    },
    {
     "name": "stderr",
     "output_type": "stream",
     "text": [
      "2023-05-12 11:30:45: oggm.workflow: Execute entity tasks [GlacierDirectory] on 1 glaciers\n",
      "2023-05-12 11:30:48: oggm.workflow: Execute entity tasks [run_from_climate_data] on 1 glaciers\n"
     ]
    },
    {
     "name": "stdout",
     "output_type": "stream",
     "text": [
      "Benchmarking glacier settings: RGI60-11.03232\n"
     ]
    },
    {
     "name": "stderr",
     "output_type": "stream",
     "text": [
      "2023-05-12 11:30:48: oggm.workflow: Execute entity tasks [GlacierDirectory] on 1 glaciers\n",
      "2023-05-12 11:30:49: oggm.workflow: Execute entity tasks [run_from_climate_data] on 1 glaciers\n",
      "2023-05-12 11:30:49: oggm.core.flowline: You are attempting to run_with_climate_data at dates prior to the RGI inventory date. This may indicate some problem in your workflow. Consider using `fixed_geometry_spinup_yr` for example.\n"
     ]
    },
    {
     "name": "stdout",
     "output_type": "stream",
     "text": [
      "Benchmarking glacier settings: RGI60-15.03591\n"
     ]
    },
    {
     "name": "stderr",
     "output_type": "stream",
     "text": [
      "2023-05-12 11:30:49: oggm.workflow: Execute entity tasks [GlacierDirectory] on 1 glaciers\n",
      "2023-05-12 11:30:50: oggm.workflow: Execute entity tasks [run_from_climate_data] on 1 glaciers\n"
     ]
    }
   ],
   "source": [
    "### Main ###\n",
    "\n",
    "rgi_ids=[\"RGI60-11.03638\",\"RGI60-11.03671\",\"RGI60-11.03643\",\"RGI60-11.03674\",\"RGI60-11.03756\", #Argentière, Gébroulaz, Mer de Glace,St-Sorlin, Sarennes\n",
    "        \"RGI60-16.00543\",\"RGI60-16.01339\", #Zongo, Antizana\n",
    "        \"RGI60-11.03232\", #Ossoue\n",
    "        \"RGI60-15.03591\"] #Mera \n",
    "\n",
    "ude_benchmarks=zeros(length(rgi_ids))\n",
    "\n",
    "# Benchmark every solver in parallel\n",
    "ude_benchmarks = pmap(glacier -> benchmark_setting_gla(glacier), rgi_ids) \n",
    "                \n",
    "save_object(\"data/benchmark_gla_glen_a.jld2\",ude_benchmarks)\n"
   ]
  },
  {
   "cell_type": "code",
   "execution_count": 12,
   "id": "33f31f27",
   "metadata": {},
   "outputs": [
    {
     "name": "stdout",
     "output_type": "stream",
     "text": [
      "\u001b[1m Row \u001b[0m│\u001b[1m id    \u001b[0m\u001b[1m name           \u001b[0m\u001b[1m t         \u001b[0m\u001b[1m bytes     \u001b[0m\u001b[1m t_oggm    \u001b[0m\u001b[1m bytes_oggm \u001b[0m\n",
      "\u001b[1m     \u001b[0m│\u001b[90m Int64 \u001b[0m\u001b[90m String         \u001b[0m\u001b[90m Float64   \u001b[0m\u001b[90m Int64     \u001b[0m\u001b[90m Float64   \u001b[0m\u001b[90m Int64      \u001b[0m\n",
      "─────┼────────────────────────────────────────────────────────────────────\n",
      "   1 │     1  RGI60-11.03638  0.336881    24044256  0.409703     16820684\n",
      "   2 │     2  RGI60-11.03671  0.119851     9050032  0.0702186        3600\n",
      "   3 │     3  RGI60-11.03643  0.288596    22733296  0.180085         3600\n",
      "   4 │     4  RGI60-11.03674  0.0755701    6757952  0.0528422        3600\n",
      "   5 │     5  RGI60-11.03756  0.0935065    5541136  0.0669694        3600\n",
      "   6 │     6  RGI60-16.00543  0.201645    15302208  0.0862814        3600\n",
      "   7 │     7  RGI60-16.01339  2.50455    157360416  0.22295          3600\n",
      "   8 │     8  RGI60-11.03232  0.134972     8754320  0.0737252        3600\n",
      "   9 │     9  RGI60-15.03591  0.212765    14337840  0.0883358        3600"
     ]
    }
   ],
   "source": [
    "### A look at the results ###\n",
    "ude = load(\"data/benchmark_gla.jld2\")\n",
    "\n",
    "n=length(rgi_ids)\n",
    "stats_gla = DataFrame(:id => 1:n, :name => rgi_ids, \n",
    "                  :t => [ude[\"single_stored_object\"][i][\"time_stats\"][1].time for i =1:n],\n",
    "                  :bytes => [ude[\"single_stored_object\"][i][\"time_stats\"][1].bytes for i =1:n],\n",
    "                  :t_oggm=> [ude[\"single_stored_object\"][i][\"time_stats_oggm\"][1].time for i =1:n],\n",
    "                  :bytes_oggm => [ude[\"single_stored_object\"][i][\"time_stats_oggm\"][1].bytes for i =1:n])\n",
    "\n",
    "show(stats_gla,summary=false)"
   ]
  },
  {
   "cell_type": "code",
   "execution_count": 15,
   "id": "abafaeba",
   "metadata": {},
   "outputs": [
    {
     "name": "stdout",
     "output_type": "stream",
     "text": [
      "\u001b[1m Row \u001b[0m│\u001b[1m id    \u001b[0m\u001b[1m name           \u001b[0m\u001b[1m t         \u001b[0m\u001b[1m bytes     \u001b[0m\u001b[1m t_oggm    \u001b[0m\u001b[1m bytes_oggm \u001b[0m\n",
      "\u001b[1m     \u001b[0m│\u001b[90m Int64 \u001b[0m\u001b[90m String         \u001b[0m\u001b[90m Float64   \u001b[0m\u001b[90m Int64     \u001b[0m\u001b[90m Float64   \u001b[0m\u001b[90m Int64      \u001b[0m\n",
      "─────┼────────────────────────────────────────────────────────────────────\n",
      "   1 │     1  RGI60-11.03638  0.862418    82024416  0.126811         3600\n",
      "   2 │     2  RGI60-11.03671  0.141137    12342704  0.141006         3600\n",
      "   3 │     3  RGI60-11.03643  1.06063    102968176  0.159212         3600\n",
      "   4 │     4  RGI60-11.03674  0.154855    11106368  0.0626282        3600\n",
      "   5 │     5  RGI60-11.03756  0.0811473    5906192  0.0586346        3600\n",
      "   6 │     6  RGI60-16.00543  0.375087    34792848  0.159814         3600\n",
      "   7 │     7  RGI60-16.01339  2.36982    204885216  0.161121         3600\n",
      "   8 │     8  RGI60-11.03232  0.165031    13946000  0.055719         3600\n",
      "   9 │     9  RGI60-15.03591  0.295367    27006256  0.0736391        3600"
     ]
    }
   ],
   "source": [
    "### If using the calibrated creep parameter A\n",
    "\n",
    "### A look at the results ###\n",
    "ude = load(\"benchmark_gla_glen_a.jld2\")\n",
    "\n",
    "n=length(rgi_ids)\n",
    "stats_gla_glen_a = DataFrame(:id => 1:n, :name => rgi_ids, \n",
    "                  :t => [ude[\"single_stored_object\"][i][\"time_stats\"][1].time for i =1:n],\n",
    "                  :bytes => [ude[\"single_stored_object\"][i][\"time_stats\"][1].bytes for i =1:n],\n",
    "                  :t_oggm=> [ude[\"single_stored_object\"][i][\"time_stats_oggm\"][1].time for i =1:n],\n",
    "                  :bytes_oggm => [ude[\"single_stored_object\"][i][\"time_stats_oggm\"][1].bytes for i =1:n])\n",
    "\n",
    "show(stats_gla_glen_a,summary=false)"
   ]
  }
 ],
 "metadata": {
  "kernelspec": {
   "display_name": "Julia 1.8.5",
   "language": "julia",
   "name": "julia-1.8"
  },
  "language_info": {
   "file_extension": ".jl",
   "mimetype": "application/julia",
   "name": "julia",
   "version": "1.8.5"
  }
 },
 "nbformat": 4,
 "nbformat_minor": 5
}
